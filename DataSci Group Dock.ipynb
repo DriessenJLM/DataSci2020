{
 "cells": [
  {
   "cell_type": "markdown",
   "metadata": {},
   "source": [
    "# Plan for report\n",
    "\n",
    "How well can we predict life expectancy based on these factors.\n",
    "\n",
    "### Have to include:\n",
    "• A description of the dataset \n",
    "• Our question\n",
    "• Which kind of analysis where implementing\n",
    "• And obviously the results\n",
    "\n",
    "What analysis do WE think is important, \n",
    "\n",
    "What is the question and what is the model we want to analyse e.g linear regression log regression decision tree  etc, more about showing that you know how to face,\n",
    "\n",
    "## Plan going forward.\n",
    "\n",
    "1. Introduction into the question and the search area.\n",
    "2. Explanatory Analysis followed by Hypothesis, Variables of interest for our hypothesis, and then analysis of any results gathered, Section conclusion\n",
    "3. Predictive analysise, Introduce sections, Explain undertaking, Model Hypothesis, initial model result analysis combined with quality analysis and then conclusion with the test analysis\n",
    "4. Conclusion\n",
    "\n",
    "Linear and Log Regressions (fine)\n",
    "Confusion matrix on a basic level (fine)\n",
    "Optimised Confusion matrix (on the way)\n",
    "Decision tress (who the fuck knows)\n",
    "\n",
    "##### we need to establish an understanding of the data and the trends present, so that we can then make some quality arguments, this should (hopefully) come as we do the initial coding and analysis :)"
   ]
  },
  {
   "cell_type": "code",
   "execution_count": 38,
   "metadata": {
    "scrolled": false
   },
   "outputs": [
    {
     "name": "stdout",
     "output_type": "stream",
     "text": [
      "<class 'pandas.core.frame.DataFrame'>\n",
      "Int64Index: 1987 entries, 0 to 2937\n",
      "Data columns (total 22 columns):\n",
      " #   Column                    Non-Null Count  Dtype  \n",
      "---  ------                    --------------  -----  \n",
      " 0   Country                   1987 non-null   object \n",
      " 1   Year                      1987 non-null   int64  \n",
      " 2   Status                    1987 non-null   object \n",
      " 3   Life_Expectancy           1987 non-null   float64\n",
      " 4   Adult_Mortality           1987 non-null   float64\n",
      " 5   Infant_Deaths             1987 non-null   int64  \n",
      " 6   Alcohol                   1987 non-null   float64\n",
      " 7   Percentage_Exp            1987 non-null   float64\n",
      " 8   HepatitisB                1987 non-null   float64\n",
      " 9   Measles                   1987 non-null   int64  \n",
      " 10  BMI                       1987 non-null   float64\n",
      " 11  Under_Five_Deaths         1987 non-null   int64  \n",
      " 12  Polio                     1987 non-null   float64\n",
      " 13  Tot_Exp                   1987 non-null   float64\n",
      " 14  Diphtheria                1987 non-null   float64\n",
      " 15  HIV_AIDS                  1987 non-null   float64\n",
      " 16  GDP                       1987 non-null   float64\n",
      " 17  Population                1987 non-null   float64\n",
      " 18  thinness_1to19_years      1987 non-null   float64\n",
      " 19  thinness_5to9_years       1987 non-null   float64\n",
      " 20  Income_Comp_Of_Resources  1987 non-null   float64\n",
      " 21  Schooling                 1987 non-null   float64\n",
      "dtypes: float64(16), int64(4), object(2)\n",
      "memory usage: 357.0+ KB\n"
     ]
    }
   ],
   "source": [
    "import pandas as pd\n",
    "from sklearn.metrics import precision_score, recall_score\n",
    "\n",
    "ds = pd.read_csv(\"Chosen Life Exp dataset.csv\")\n",
    "\n",
    "ds.rename(columns={\" BMI \":\"BMI\",\"Life expectancy \":\"Life_Expectancy\",\"Adult Mortality\":\"Adult_Mortality\",\n",
    "                   \"infant deaths\":\"Infant_Deaths\",\"percentage expenditure\":\"Percentage_Exp\",\"Hepatitis B\":\"HepatitisB\",\n",
    "                  \"Measles \":\"Measles\",\" BMI \":\"BMI\",\"under-five deaths \":\"Under_Five_Deaths\",\"Diphtheria \":\"Diphtheria\",\n",
    "                  \" HIV/AIDS\":\"HIV_AIDS\",\" thinness  1-19 years\":\"thinness_1to19_years\",\" thinness 5-9 years\":\"thinness_5to9_years\",\"Income composition of resources\":\"Income_Comp_Of_Resources\",\n",
    "                   \"Total expenditure\":\"Tot_Exp\"},inplace=True)\n",
    "\n",
    "ds.isnull().sum()*100/ds.isnull().count()\n",
    "country_list = ds.Country.unique()\n",
    "fill_list = ['Life_Expectancy','Adult_Mortality','Alcohol','HepatitisB','BMI','Polio','Tot_Exp','Diphtheria','GDP','Population','thinness_1to19_years','thinness_5to9_years','Income_Comp_Of_Resources','Schooling']\n",
    "\n",
    "for country in country_list:\n",
    "    ds.loc[ds['Country'] == country,fill_list] = ds.loc[ds['Country'] == country,fill_list].interpolate()\n",
    "    \n",
    "ds.dropna(inplace=True)\n",
    "ds.info(verbose=True)"
   ]
  },
  {
   "cell_type": "code",
   "execution_count": 39,
   "metadata": {},
   "outputs": [
    {
     "name": "stdout",
     "output_type": "stream",
     "text": [
      "Hello, is it me you\n"
     ]
    }
   ],
   "source": [
    "print('Hello, is it me you')"
   ]
  },
  {
   "cell_type": "code",
   "execution_count": 40,
   "metadata": {},
   "outputs": [],
   "source": [
    "from sklearn.model_selection import train_test_split #Splitting the dataset into the train, validation and test variables\n",
    "\n",
    "train, other = train_test_split(ds, test_size=0.2, random_state=0)\n",
    "\n",
    "validation, test = train_test_split(other, test_size=0.5, random_state=0)"
   ]
  },
  {
   "cell_type": "code",
   "execution_count": 41,
   "metadata": {},
   "outputs": [
    {
     "name": "stdout",
     "output_type": "stream",
     "text": [
      "<class 'pandas.core.frame.DataFrame'>\n",
      "Int64Index: 1589 entries, 232 to 989\n",
      "Data columns (total 19 columns):\n",
      " #   Column                    Non-Null Count  Dtype  \n",
      "---  ------                    --------------  -----  \n",
      " 0   Year                      1589 non-null   int64  \n",
      " 1   Adult_Mortality           1589 non-null   float64\n",
      " 2   Infant_Deaths             1589 non-null   int64  \n",
      " 3   Alcohol                   1589 non-null   float64\n",
      " 4   Percentage_Exp            1589 non-null   float64\n",
      " 5   HepatitisB                1589 non-null   float64\n",
      " 6   Measles                   1589 non-null   int64  \n",
      " 7   BMI                       1589 non-null   float64\n",
      " 8   Under_Five_Deaths         1589 non-null   int64  \n",
      " 9   Polio                     1589 non-null   float64\n",
      " 10  Tot_Exp                   1589 non-null   float64\n",
      " 11  Diphtheria                1589 non-null   float64\n",
      " 12  HIV_AIDS                  1589 non-null   float64\n",
      " 13  GDP                       1589 non-null   float64\n",
      " 14  Population                1589 non-null   float64\n",
      " 15  thinness_1to19_years      1589 non-null   float64\n",
      " 16  thinness_5to9_years       1589 non-null   float64\n",
      " 17  Income_Comp_Of_Resources  1589 non-null   float64\n",
      " 18  Schooling                 1589 non-null   float64\n",
      "dtypes: float64(15), int64(4)\n",
      "memory usage: 248.3 KB\n"
     ]
    }
   ],
   "source": [
    "\n",
    "X_train = train.drop(columns=['Life_Expectancy','Country','Status'])\n",
    "y_train = train['Life_Expectancy']\n",
    "\n",
    "X_val = validation.drop(columns=['Life_Expectancy','Country','Status'])\n",
    "y_val = validation['Life_Expectancy']\n",
    "\n",
    "X_test = test.drop(columns=['Life_Expectancy','Country','Status'])\n",
    "y_test = test['Life_Expectancy']\n",
    "\n",
    "X_train.info(verbose=True)\n"
   ]
  },
  {
   "cell_type": "code",
   "execution_count": 42,
   "metadata": {},
   "outputs": [
    {
     "name": "stdout",
     "output_type": "stream",
     "text": [
      "=============== Begining forward selection =================\n",
      "Trying 1 var models\n"
     ]
    },
    {
     "ename": "ValueError",
     "evalue": "Unknown label type: 'continuous'",
     "output_type": "error",
     "traceback": [
      "\u001b[0;31m---------------------------------------------------------------------------\u001b[0m",
      "\u001b[0;31mValueError\u001b[0m                                Traceback (most recent call last)",
      "\u001b[0;32m<ipython-input-42-0710e5c87c4b>\u001b[0m in \u001b[0;36m<module>\u001b[0;34m\u001b[0m\n\u001b[1;32m     43\u001b[0m \u001b[0;34m\u001b[0m\u001b[0m\n\u001b[1;32m     44\u001b[0m \u001b[0;34m\u001b[0m\u001b[0m\n\u001b[0;32m---> 45\u001b[0;31m \u001b[0mselected_columns\u001b[0m \u001b[0;34m=\u001b[0m \u001b[0mmy_fwd_selector\u001b[0m\u001b[0;34m(\u001b[0m\u001b[0mX_train\u001b[0m\u001b[0;34m,\u001b[0m \u001b[0my_train\u001b[0m\u001b[0;34m,\u001b[0m \u001b[0mX_val\u001b[0m\u001b[0;34m,\u001b[0m \u001b[0my_val\u001b[0m\u001b[0;34m)\u001b[0m\u001b[0;34m\u001b[0m\u001b[0;34m\u001b[0m\u001b[0m\n\u001b[0m\u001b[1;32m     46\u001b[0m \u001b[0;34m\u001b[0m\u001b[0m\n\u001b[1;32m     47\u001b[0m \u001b[0mmodel\u001b[0m \u001b[0;34m=\u001b[0m \u001b[0mLogisticRegression\u001b[0m\u001b[0;34m(\u001b[0m\u001b[0mC\u001b[0m\u001b[0;34m=\u001b[0m\u001b[0;36m1e9\u001b[0m\u001b[0;34m)\u001b[0m\u001b[0;34m.\u001b[0m\u001b[0mfit\u001b[0m\u001b[0;34m(\u001b[0m\u001b[0mX_train\u001b[0m\u001b[0;34m[\u001b[0m\u001b[0mselected_columns\u001b[0m\u001b[0;34m]\u001b[0m\u001b[0;34m,\u001b[0m \u001b[0my_train\u001b[0m\u001b[0;34m)\u001b[0m\u001b[0;34m\u001b[0m\u001b[0;34m\u001b[0m\u001b[0m\n",
      "\u001b[0;32m<ipython-input-42-0710e5c87c4b>\u001b[0m in \u001b[0;36mmy_fwd_selector\u001b[0;34m(X_train, y_train, X_val, y_val)\u001b[0m\n\u001b[1;32m     27\u001b[0m                 \u001b[0mnew_X_val\u001b[0m \u001b[0;34m=\u001b[0m \u001b[0mX_val\u001b[0m\u001b[0;34m[\u001b[0m\u001b[0mcurrent_vars\u001b[0m\u001b[0;34m]\u001b[0m\u001b[0;34m\u001b[0m\u001b[0;34m\u001b[0m\u001b[0m\n\u001b[1;32m     28\u001b[0m \u001b[0;34m\u001b[0m\u001b[0m\n\u001b[0;32m---> 29\u001b[0;31m             \u001b[0mmod\u001b[0m \u001b[0;34m=\u001b[0m \u001b[0mLogisticRegression\u001b[0m\u001b[0;34m(\u001b[0m\u001b[0mC\u001b[0m\u001b[0;34m=\u001b[0m\u001b[0;36m1e9\u001b[0m\u001b[0;34m)\u001b[0m\u001b[0;34m.\u001b[0m\u001b[0mfit\u001b[0m\u001b[0;34m(\u001b[0m\u001b[0mnew_X_train\u001b[0m\u001b[0;34m,\u001b[0m \u001b[0my_train\u001b[0m\u001b[0;34m)\u001b[0m\u001b[0;34m\u001b[0m\u001b[0;34m\u001b[0m\u001b[0m\n\u001b[0m\u001b[1;32m     30\u001b[0m             \u001b[0mval_acc\u001b[0m \u001b[0;34m=\u001b[0m \u001b[0maccuracy_score\u001b[0m\u001b[0;34m(\u001b[0m\u001b[0my_val\u001b[0m\u001b[0;34m,\u001b[0m \u001b[0mmod\u001b[0m\u001b[0;34m.\u001b[0m\u001b[0mpredict\u001b[0m\u001b[0;34m(\u001b[0m\u001b[0mnew_X_val\u001b[0m\u001b[0;34m)\u001b[0m\u001b[0;34m)\u001b[0m\u001b[0;34m\u001b[0m\u001b[0;34m\u001b[0m\u001b[0m\n\u001b[1;32m     31\u001b[0m             \u001b[0;32mif\u001b[0m \u001b[0mval_acc\u001b[0m \u001b[0;34m-\u001b[0m \u001b[0mbest_val_acc\u001b[0m \u001b[0;34m>\u001b[0m \u001b[0;36m0.005\u001b[0m\u001b[0;34m:\u001b[0m\u001b[0;34m\u001b[0m\u001b[0;34m\u001b[0m\u001b[0m\n",
      "\u001b[0;32m~/opt/anaconda3/lib/python3.8/site-packages/sklearn/linear_model/_logistic.py\u001b[0m in \u001b[0;36mfit\u001b[0;34m(self, X, y, sample_weight)\u001b[0m\n\u001b[1;32m   1343\u001b[0m                                    \u001b[0morder\u001b[0m\u001b[0;34m=\u001b[0m\u001b[0;34m\"C\"\u001b[0m\u001b[0;34m,\u001b[0m\u001b[0;34m\u001b[0m\u001b[0;34m\u001b[0m\u001b[0m\n\u001b[1;32m   1344\u001b[0m                                    accept_large_sparse=solver != 'liblinear')\n\u001b[0;32m-> 1345\u001b[0;31m         \u001b[0mcheck_classification_targets\u001b[0m\u001b[0;34m(\u001b[0m\u001b[0my\u001b[0m\u001b[0;34m)\u001b[0m\u001b[0;34m\u001b[0m\u001b[0;34m\u001b[0m\u001b[0m\n\u001b[0m\u001b[1;32m   1346\u001b[0m         \u001b[0mself\u001b[0m\u001b[0;34m.\u001b[0m\u001b[0mclasses_\u001b[0m \u001b[0;34m=\u001b[0m \u001b[0mnp\u001b[0m\u001b[0;34m.\u001b[0m\u001b[0munique\u001b[0m\u001b[0;34m(\u001b[0m\u001b[0my\u001b[0m\u001b[0;34m)\u001b[0m\u001b[0;34m\u001b[0m\u001b[0;34m\u001b[0m\u001b[0m\n\u001b[1;32m   1347\u001b[0m \u001b[0;34m\u001b[0m\u001b[0m\n",
      "\u001b[0;32m~/opt/anaconda3/lib/python3.8/site-packages/sklearn/utils/multiclass.py\u001b[0m in \u001b[0;36mcheck_classification_targets\u001b[0;34m(y)\u001b[0m\n\u001b[1;32m    170\u001b[0m     if y_type not in ['binary', 'multiclass', 'multiclass-multioutput',\n\u001b[1;32m    171\u001b[0m                       'multilabel-indicator', 'multilabel-sequences']:\n\u001b[0;32m--> 172\u001b[0;31m         \u001b[0;32mraise\u001b[0m \u001b[0mValueError\u001b[0m\u001b[0;34m(\u001b[0m\u001b[0;34m\"Unknown label type: %r\"\u001b[0m \u001b[0;34m%\u001b[0m \u001b[0my_type\u001b[0m\u001b[0;34m)\u001b[0m\u001b[0;34m\u001b[0m\u001b[0;34m\u001b[0m\u001b[0m\n\u001b[0m\u001b[1;32m    173\u001b[0m \u001b[0;34m\u001b[0m\u001b[0m\n\u001b[1;32m    174\u001b[0m \u001b[0;34m\u001b[0m\u001b[0m\n",
      "\u001b[0;31mValueError\u001b[0m: Unknown label type: 'continuous'"
     ]
    }
   ],
   "source": [
    "\n",
    "import numpy as np\n",
    "from sklearn.metrics import accuracy_score\n",
    "from sklearn.linear_model import LogisticRegression\n",
    "import warnings\n",
    "warnings.filterwarnings('ignore')\n",
    "\n",
    "from sklearn.metrics import accuracy_score\n",
    "from sklearn.linear_model import LogisticRegression\n",
    "import numpy as np\n",
    "\n",
    "def my_fwd_selector(X_train, y_train, X_val, y_val):\n",
    "    print('=============== Begining forward selection =================')\n",
    "    cols = list(X_train.columns)\n",
    "    best_val_acc = 0\n",
    "    selected_vars = []\n",
    "    while len(cols) > 0:\n",
    "        print('Trying {} var models'.format(len(selected_vars) + 1))\n",
    "        candidate = None\n",
    "        for i in range(len(cols)):\n",
    "            current_vars = selected_vars.copy()\n",
    "            current_vars.append(cols[i])\n",
    "            if len(current_vars) == 1:\n",
    "                new_X_train = X_train[current_vars].values.reshape(-1, 1)\n",
    "                new_X_val = X_val[current_vars].values.reshape(-1, 1)\n",
    "            else:\n",
    "                new_X_train = X_train[current_vars]                \n",
    "                new_X_val = X_val[current_vars]\n",
    "            \n",
    "            mod = LogisticRegression(C=1e9).fit(new_X_train, y_train)\n",
    "            val_acc = accuracy_score(y_val, mod.predict(new_X_val))\n",
    "            if val_acc - best_val_acc > 0.005:\n",
    "                candidate = cols[i]\n",
    "                best_val_acc = val_acc\n",
    "        if candidate is not None:\n",
    "            selected_vars.append(candidate)\n",
    "            cols.remove(candidate)\n",
    "            print('------- Adding {} to the model ---------'.format(candidate))\n",
    "        else:\n",
    "            break\n",
    "        print('Columns in current model: {}'.format(', '.join(selected_vars)))\n",
    "        print('Best validation accuracy is {}'.format(np.round(best_val_acc, 3)))\n",
    "    return selected_vars\n",
    "\n",
    "\n",
    "selected_columns = my_fwd_selector(X_train, y_train, X_val, y_val)\n",
    "\n",
    "model = LogisticRegression(C=1e9).fit(X_train[selected_columns], y_train)\n",
    "\n",
    "y_train_predicted = model.predict(X_train[selected_columns])\n",
    "y_val_predicted = model.predict(X_val[selected_columns])\n",
    "y_test_predicted = model.predict(X_test[selected_columns])\n",
    "\n",
    "print('======= Accuracy  table =======')\n",
    "print('Training accuracy is:    {}'.format(accuracy_score(y_train, y_train_predicted)))\n",
    "print('Validation accuracy is:  {}'.format(accuracy_score(y_val, y_val_predicted)))\n",
    "cm = confusion_matrix(y_test, y_test_predicted, labels=[1, 0])\n",
    "print(cm)\n",
    "\n",
    "from sklearn.metrics import precision_score, recall_score\n"
   ]
  },
  {
   "cell_type": "code",
   "execution_count": null,
   "metadata": {},
   "outputs": [],
   "source": []
  }
 ],
 "metadata": {
  "kernelspec": {
   "display_name": "Python 3",
   "language": "python",
   "name": "python3"
  },
  "language_info": {
   "codemirror_mode": {
    "name": "ipython",
    "version": 3
   },
   "file_extension": ".py",
   "mimetype": "text/x-python",
   "name": "python",
   "nbconvert_exporter": "python",
   "pygments_lexer": "ipython3",
   "version": "3.8.3"
  }
 },
 "nbformat": 4,
 "nbformat_minor": 4
}
