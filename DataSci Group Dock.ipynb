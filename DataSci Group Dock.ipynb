{
 "cells": [
  {
   "cell_type": "markdown",
   "metadata": {},
   "source": [
    "# Plan for report\n",
    "\n",
    "How well can we predict life expectancy based on these factors.\n",
    "\n",
    "### Have to include:\n",
    "• A description of the dataset \n",
    "• Our question\n",
    "• Which kind of analysis where implementing\n",
    "• And obviously the results\n",
    "\n",
    "What analysis do WE think is important, \n",
    "\n",
    "What is the question and what is the model we want to analyse e.g linear regression log regression decision tree  etc, more about showing that you know how to face,\n",
    "\n",
    "## Plan going forward.\n",
    "\n",
    "1. Introduction into the question and the search area.\n",
    "2. Explanatory Analysis followed by Hypothesis, Variables of interest for our hypothesis, and then analysis of any results gathered, Section conclusion\n",
    "3. Predictive analysise, Introduce sections, Explain undertaking, Model Hypothesis, initial model result analysis combined with quality analysis and then conclusion with the test analysis\n",
    "4. Conclusion\n",
    "\n",
    "Linear and Log Regressions (fine)\n",
    "Confusion matrix on a basic level (fine)\n",
    "Optimised Confusion matrix (on the way)\n",
    "Decision tress (who the fuck knows)\n",
    "\n",
    "##### we need to establish an understanding of the data and the trends present, so that we can then make some quality arguments, this should (hopefully) come as we do the initial coding and analysis :)"
   ]
  },
  {
   "cell_type": "code",
   "execution_count": 91,
   "metadata": {
    "scrolled": false
   },
   "outputs": [
    {
     "name": "stdout",
     "output_type": "stream",
     "text": [
      "0       4\n",
      "1       4\n",
      "2       4\n",
      "3       4\n",
      "4       4\n",
      "       ..\n",
      "2933    4\n",
      "2934    4\n",
      "2935    4\n",
      "2936    4\n",
      "2937    4\n",
      "Name: Life_Expectancy, Length: 1987, dtype: int64\n",
      "<class 'pandas.core.frame.DataFrame'>\n",
      "Int64Index: 1987 entries, 0 to 2937\n",
      "Data columns (total 22 columns):\n",
      " #   Column                    Non-Null Count  Dtype  \n",
      "---  ------                    --------------  -----  \n",
      " 0   Country                   1987 non-null   object \n",
      " 1   Year                      1987 non-null   int64  \n",
      " 2   Status                    1987 non-null   object \n",
      " 3   Life_Expectancy           1987 non-null   int64  \n",
      " 4   Adult_Mortality           1987 non-null   float64\n",
      " 5   Infant_Deaths             1987 non-null   int64  \n",
      " 6   Alcohol                   1987 non-null   float64\n",
      " 7   Percentage_Exp            1987 non-null   float64\n",
      " 8   HepatitisB                1987 non-null   float64\n",
      " 9   Measles                   1987 non-null   int64  \n",
      " 10  BMI                       1987 non-null   float64\n",
      " 11  Under_Five_Deaths         1987 non-null   int64  \n",
      " 12  Polio                     1987 non-null   float64\n",
      " 13  Tot_Exp                   1987 non-null   float64\n",
      " 14  Diphtheria                1987 non-null   float64\n",
      " 15  HIV_AIDS                  1987 non-null   float64\n",
      " 16  GDP                       1987 non-null   float64\n",
      " 17  Population                1987 non-null   float64\n",
      " 18  thinness_1to19_years      1987 non-null   float64\n",
      " 19  thinness_5to9_years       1987 non-null   float64\n",
      " 20  Income_Comp_Of_Resources  1987 non-null   float64\n",
      " 21  Schooling                 1987 non-null   float64\n",
      "dtypes: float64(15), int64(5), object(2)\n",
      "memory usage: 357.0+ KB\n"
     ]
    }
   ],
   "source": [
    "import pandas as pd\n",
    "from sklearn.metrics import precision_score, recall_score\n",
    "\n",
    "ds = pd.read_csv(\"Chosen Life Exp dataset.csv\")\n",
    "\n",
    "ds.rename(columns={\" BMI \":\"BMI\",\"Life expectancy \":\"Life_Expectancy\",\"Adult Mortality\":\"Adult_Mortality\",\n",
    "                   \"infant deaths\":\"Infant_Deaths\",\"percentage expenditure\":\"Percentage_Exp\",\"Hepatitis B\":\"HepatitisB\",\n",
    "                  \"Measles \":\"Measles\",\" BMI \":\"BMI\",\"under-five deaths \":\"Under_Five_Deaths\",\"Diphtheria \":\"Diphtheria\",\n",
    "                  \" HIV/AIDS\":\"HIV_AIDS\",\" thinness  1-19 years\":\"thinness_1to19_years\",\" thinness 5-9 years\":\"thinness_5to9_years\",\"Income composition of resources\":\"Income_Comp_Of_Resources\",\n",
    "                   \"Total expenditure\":\"Tot_Exp\"},inplace=True)\n",
    "\n",
    "ds.isnull().sum()*100/ds.isnull().count()\n",
    "country_list = ds.Country.unique()\n",
    "fill_list = ['Life_Expectancy','Adult_Mortality','Alcohol','HepatitisB','BMI','Polio','Tot_Exp','Diphtheria','GDP','Population','thinness_1to19_years','thinness_5to9_years','Income_Comp_Of_Resources','Schooling']\n",
    "\n",
    "for country in country_list:\n",
    "    ds.loc[ds['Country'] == country,fill_list] = ds.loc[ds['Country'] == country,fill_list].interpolate()\n",
    "\n",
    "ds.dropna(inplace=True)\n",
    "# ds['Life_Expectancy'].astype(int)\n",
    "print(ds['Life_Expectancy'])\n",
    "ds.info(verbose=True)\n",
    "\n",
    "# print(ds['Life_Expectancy'])\n",
    "\n",
    "life_expec = ds['Life_Expectancy']\n",
    "\n",
    "# for i in life_expec:\n",
    "#     if life_expec.value(i) <= 40:\n",
    "#         life_expec.value(i) = 0\n",
    "#     else:\n",
    "#         life_expec.values(i) = \"hahaha\"\n",
    "    \n",
    "#     elif i <= 50:\n",
    "#         return i = 1\n",
    "#     elif i <=60:\n",
    "#         return i = 2\n",
    "#     elif i <= 70:\n",
    "#         return i = 3\n",
    "#     elif i <= 80:\n",
    "#         return i = 4\n",
    "#     else:\n",
    "#         return i = 5\n",
    "        \n",
    "\n",
    "\n",
    "# print(ds['Life_Expectancy'])\n",
    "        \n",
    "        "
   ]
  },
  {
   "cell_type": "code",
   "execution_count": 92,
   "metadata": {},
   "outputs": [
    {
     "name": "stdout",
     "output_type": "stream",
     "text": [
      "Hello, is it me you\n"
     ]
    }
   ],
   "source": [
    "print('Hello, is it me you')"
   ]
  },
  {
   "cell_type": "code",
   "execution_count": 93,
   "metadata": {},
   "outputs": [],
   "source": [
    "from sklearn.model_selection import train_test_split #Splitting the dataset into the train, validation and test variables\n",
    "\n",
    "train, other = train_test_split(ds, test_size=0.2, random_state=0)\n",
    "\n",
    "validation, test = train_test_split(other, test_size=0.5, random_state=0)"
   ]
  },
  {
   "cell_type": "code",
   "execution_count": 94,
   "metadata": {},
   "outputs": [],
   "source": [
    "#     life_expec_train = train[\"Life_Expectancy\"]\n",
    "#     life_expec_train[0] = 0\n",
    "#     life_expec_train.to_frame()\n",
    "#     life_expec_train = int(life_expec_train)\n",
    "#     print(life_expec_train)\n",
    "\n",
    "\n",
    "\n",
    "X_train = train.drop(columns=['Life_Expectancy','Country','Status'])\n",
    "y_train = train['Life_Expectancy']\n",
    "\n",
    "# life_expec_val = train[\"Life_Expectancy\"]\n",
    "# life_expec_val[0] = 0\n",
    "# life_expec_val = pd.to_numeric(life_expec_val)\n",
    "\n",
    "\n",
    "X_val = validation.drop(columns=['Life_Expectancy','Country','Status'])\n",
    "y_val = validation['Life_Expectancy']\n",
    "\n",
    "# life_expec_test = train[\"Life_Expectancy\"]\n",
    "# life_expec_test[0] = 0\n",
    "# life_expec_test = pd.to_numeric(life_expec_test)\n",
    "\n",
    "X_test = test.drop(columns=['Life_Expectancy','Country','Status'])\n",
    "y_test = test['Life_Expectancy']\n",
    "\n"
   ]
  },
  {
   "cell_type": "code",
   "execution_count": 95,
   "metadata": {},
   "outputs": [],
   "source": [
    "\n",
    "import numpy as np\n",
    "from sklearn.metrics import accuracy_score\n",
    "from sklearn.linear_model import LogisticRegression\n",
    "import warnings\n",
    "warnings.filterwarnings('ignore')\n",
    "\n"
   ]
  },
  {
   "cell_type": "code",
   "execution_count": 96,
   "metadata": {},
   "outputs": [],
   "source": [
    "from sklearn.metrics import accuracy_score\n",
    "from sklearn.linear_model import LogisticRegression\n",
    "import numpy as np\n",
    "\n",
    "def my_fwd_selector(X_train, y_train, X_val, y_val):\n",
    "    print('=============== Begining forward selection =================')\n",
    "    cols = list(X_train.columns)\n",
    "    best_val_acc = 0\n",
    "    selected_vars = []\n",
    "    while len(cols) > 0:\n",
    "        print('Trying {} var models'.format(len(selected_vars) + 1))\n",
    "        candidate = None\n",
    "        for i in range(len(cols)):\n",
    "            current_vars = selected_vars.copy()\n",
    "            current_vars.append(cols[i])\n",
    "            if len(current_vars) == 1:\n",
    "                new_X_train = X_train[current_vars].values.reshape(-1, 1)\n",
    "                new_X_val = X_val[current_vars].values.reshape(-1, 1)\n",
    "            else:\n",
    "                new_X_train = X_train[current_vars]                \n",
    "                new_X_val = X_val[current_vars]\n",
    "            \n",
    "            mod = LogisticRegression(C=1e9).fit(new_X_train, y_train)\n",
    "            val_acc = accuracy_score(y_val, mod.predict(new_X_val))\n",
    "            if val_acc - best_val_acc > 0.005:\n",
    "                candidate = cols[i]\n",
    "                best_val_acc = val_acc\n",
    "        if candidate is not None:\n",
    "            selected_vars.append(candidate)\n",
    "            cols.remove(candidate)\n",
    "            print('------- Adding {} to the model ---------'.format(candidate))\n",
    "        else:\n",
    "            break\n",
    "        print('Columns in current model: {}'.format(', '.join(selected_vars)))\n",
    "        print('Best validation accuracy is {}'.format(np.round(best_val_acc, 3)))\n",
    "    return selected_vars\n"
   ]
  },
  {
   "cell_type": "code",
   "execution_count": 100,
   "metadata": {},
   "outputs": [
    {
     "name": "stdout",
     "output_type": "stream",
     "text": [
      "=============== Begining forward selection =================\n",
      "Trying 1 var models\n",
      "------- Adding Income_Comp_Of_Resources to the model ---------\n",
      "Columns in current model: Income_Comp_Of_Resources\n",
      "Best validation accuracy is 0.98\n",
      "Trying 2 var models\n",
      "======= Accuracy  table =======\n",
      "Training accuracy is:    0.9546884833228445\n",
      "Validation accuracy is:  0.9798994974874372\n"
     ]
    },
    {
     "ename": "NameError",
     "evalue": "name 'confusion_matrix' is not defined",
     "output_type": "error",
     "traceback": [
      "\u001b[0;31m---------------------------------------------------------------------------\u001b[0m",
      "\u001b[0;31mNameError\u001b[0m                                 Traceback (most recent call last)",
      "\u001b[0;32m<ipython-input-100-f94535b5698e>\u001b[0m in \u001b[0;36m<module>\u001b[0;34m\u001b[0m\n\u001b[1;32m      9\u001b[0m \u001b[0mprint\u001b[0m\u001b[0;34m(\u001b[0m\u001b[0;34m'Training accuracy is:    {}'\u001b[0m\u001b[0;34m.\u001b[0m\u001b[0mformat\u001b[0m\u001b[0;34m(\u001b[0m\u001b[0maccuracy_score\u001b[0m\u001b[0;34m(\u001b[0m\u001b[0my_train\u001b[0m\u001b[0;34m,\u001b[0m \u001b[0my_train_predicted\u001b[0m\u001b[0;34m)\u001b[0m\u001b[0;34m)\u001b[0m\u001b[0;34m)\u001b[0m\u001b[0;34m\u001b[0m\u001b[0;34m\u001b[0m\u001b[0m\n\u001b[1;32m     10\u001b[0m \u001b[0mprint\u001b[0m\u001b[0;34m(\u001b[0m\u001b[0;34m'Validation accuracy is:  {}'\u001b[0m\u001b[0;34m.\u001b[0m\u001b[0mformat\u001b[0m\u001b[0;34m(\u001b[0m\u001b[0maccuracy_score\u001b[0m\u001b[0;34m(\u001b[0m\u001b[0my_val\u001b[0m\u001b[0;34m,\u001b[0m \u001b[0my_val_predicted\u001b[0m\u001b[0;34m)\u001b[0m\u001b[0;34m)\u001b[0m\u001b[0;34m)\u001b[0m\u001b[0;34m\u001b[0m\u001b[0;34m\u001b[0m\u001b[0m\n\u001b[0;32m---> 11\u001b[0;31m \u001b[0mcm\u001b[0m \u001b[0;34m=\u001b[0m \u001b[0mconfusion_matrix\u001b[0m\u001b[0;34m(\u001b[0m\u001b[0my_test\u001b[0m\u001b[0;34m,\u001b[0m \u001b[0my_test_predicted\u001b[0m\u001b[0;34m,\u001b[0m \u001b[0mlabels\u001b[0m\u001b[0;34m=\u001b[0m\u001b[0;34m[\u001b[0m\u001b[0;36m1\u001b[0m\u001b[0;34m,\u001b[0m \u001b[0;36m0\u001b[0m\u001b[0;34m]\u001b[0m\u001b[0;34m)\u001b[0m\u001b[0;34m\u001b[0m\u001b[0;34m\u001b[0m\u001b[0m\n\u001b[0m\u001b[1;32m     12\u001b[0m \u001b[0mprint\u001b[0m\u001b[0;34m(\u001b[0m\u001b[0mcm\u001b[0m\u001b[0;34m)\u001b[0m\u001b[0;34m\u001b[0m\u001b[0;34m\u001b[0m\u001b[0m\n\u001b[1;32m     13\u001b[0m \u001b[0;34m\u001b[0m\u001b[0m\n",
      "\u001b[0;31mNameError\u001b[0m: name 'confusion_matrix' is not defined"
     ]
    }
   ],
   "source": [
    "selected_columns = my_fwd_selector(X_train, y_train, X_val, y_val)\n",
    "model = LogisticRegression(C=1e9).fit(X_train[selected_columns], y_train)\n",
    "\n",
    "y_train_predicted = model.predict(X_train[selected_columns])\n",
    "y_val_predicted = model.predict(X_val[selected_columns])\n",
    "y_test_predicted = model.predict(X_test[selected_columns])\n",
    "\n",
    "print('======= Accuracy  table =======')\n",
    "print('Training accuracy is:    {}'.format(accuracy_score(y_train, y_train_predicted)))\n",
    "print('Validation accuracy is:  {}'.format(accuracy_score(y_val, y_val_predicted)))\n",
    "cm = confusion_matrix(y_test, y_test_predicted, labels=[1, 0])\n",
    "print(cm)\n",
    "\n",
    "from sklearn.metrics import precision_score, recall_score\n"
   ]
  }
 ],
 "metadata": {
  "kernelspec": {
   "display_name": "Python 3",
   "language": "python",
   "name": "python3"
  },
  "language_info": {
   "codemirror_mode": {
    "name": "ipython",
    "version": 3
   },
   "file_extension": ".py",
   "mimetype": "text/x-python",
   "name": "python",
   "nbconvert_exporter": "python",
   "pygments_lexer": "ipython3",
   "version": "3.8.3"
  }
 },
 "nbformat": 4,
 "nbformat_minor": 4
}
